{
 "cells": [
  {
   "cell_type": "code",
   "execution_count": 11,
   "metadata": {},
   "outputs": [
    {
     "name": "stdout",
     "output_type": "stream",
     "text": [
      "java version \"11.0.6\" 2020-01-14 LTS\r\n",
      "Java(TM) SE Runtime Environment 18.9 (build 11.0.6+8-LTS)\r\n",
      "Java HotSpot(TM) 64-Bit Server VM 18.9 (build 11.0.6+8-LTS, mixed mode)\r\n"
     ]
    }
   ],
   "source": [
    "!java -version"
   ]
  },
  {
   "cell_type": "code",
   "execution_count": 113,
   "metadata": {
    "scrolled": true
   },
   "outputs": [
    {
     "name": "stdout",
     "output_type": "stream",
     "text": [
      "Requirement already satisfied: tabula-py in /Users/liamcollins/anaconda3/lib/python3.7/site-packages (2.0.4)\n",
      "Requirement already satisfied: pandas in /Users/liamcollins/anaconda3/lib/python3.7/site-packages (from tabula-py) (0.24.2)\n",
      "Requirement already satisfied: distro in /Users/liamcollins/anaconda3/lib/python3.7/site-packages (from tabula-py) (1.4.0)\n",
      "Requirement already satisfied: numpy in /Users/liamcollins/anaconda3/lib/python3.7/site-packages (from tabula-py) (1.16.4)\n",
      "Requirement already satisfied: python-dateutil>=2.5.0 in /Users/liamcollins/anaconda3/lib/python3.7/site-packages (from pandas->tabula-py) (2.8.0)\n",
      "Requirement already satisfied: pytz>=2011k in /Users/liamcollins/anaconda3/lib/python3.7/site-packages (from pandas->tabula-py) (2019.1)\n",
      "Requirement already satisfied: six>=1.5 in /Users/liamcollins/anaconda3/lib/python3.7/site-packages (from python-dateutil>=2.5.0->pandas->tabula-py) (1.12.0)\n",
      "Note: you may need to restart the kernel to use updated packages.\n"
     ]
    }
   ],
   "source": [
    "pip install tabula-py"
   ]
  },
  {
   "cell_type": "code",
   "execution_count": 72,
   "metadata": {
    "scrolled": true
   },
   "outputs": [
    {
     "name": "stdout",
     "output_type": "stream",
     "text": [
      "Collecting tabulate\n",
      "\u001b[?25l  Downloading https://files.pythonhosted.org/packages/c4/41/523f6a05e6dc3329a5660f6a81254c6cd87e5cfb5b7482bae3391d86ec3a/tabulate-0.8.6.tar.gz (45kB)\n",
      "\u001b[K     |████████████████████████████████| 51kB 3.3MB/s eta 0:00:011\n",
      "\u001b[?25hBuilding wheels for collected packages: tabulate\n",
      "  Building wheel for tabulate (setup.py) ... \u001b[?25ldone\n",
      "\u001b[?25h  Stored in directory: /Users/liamcollins/Library/Caches/pip/wheels/9c/9b/f4/eb243fdb89676ec00588e8c54bb54360724c06e7fafe95278e\n",
      "Successfully built tabulate\n",
      "Installing collected packages: tabulate\n",
      "Successfully installed tabulate-0.8.6\n",
      "Note: you may need to restart the kernel to use updated packages.\n"
     ]
    }
   ],
   "source": [
    "pip install tabulate"
   ]
  },
  {
   "cell_type": "code",
   "execution_count": 73,
   "metadata": {
    "scrolled": true
   },
   "outputs": [],
   "source": [
    "from tabula import read_pdf\n",
    "import pandas as pd\n",
    "from tabulate import tabulate"
   ]
  },
  {
   "cell_type": "markdown",
   "metadata": {},
   "source": [
    "import tabula\n",
    "\n",
    "# Read pdf into list of DataFrame\n",
    "df = tabula.read_pdf(\"test.pdf\", pages='all')\n",
    "\n",
    "# Read remote pdf into list of DataFrame\n",
    "df2 = tabula.read_pdf(\"https://github.com/tabulapdf/tabula-java/raw/master/src/test/resources/technology/tabula/arabic.pdf\")\n",
    "\n",
    "# convert PDF into CSV file\n",
    "tabula.convert_into(\"test.pdf\", \"output.csv\", output_format=\"csv\", pages='all')\n",
    "\n",
    "# convert all PDFs in a directory\n",
    "tabula.convert_into_by_batch(\"input_directory\", output_format='csv', pages='all)"
   ]
  },
  {
   "cell_type": "markdown",
   "metadata": {},
   "source": [
    "# Use Preview to grab table coordinates (OS X only)\n",
    "Open your PDF file in the Preview app\n",
    "Make sure Tools > Rectangular selection is checked.\n",
    "Open the inspector by going to Tools > Show inspector.\n",
    "Go to the \"crop inspector\" tab — second from the right, it looks like a ruler\n",
    "Change \"Units\" to Points\n",
    "Select the area you want on the page.\n",
    "Note the left, top, height, and width parameters and calculate the following:\n",
    "\n",
    "y1 = top\n",
    "x1 = left\n",
    "y2 = top + height\n",
    "x2 = left + width"
   ]
  },
  {
   "cell_type": "code",
   "execution_count": 74,
   "metadata": {},
   "outputs": [
    {
     "data": {
      "text/plain": [
       "[           Bidder     bid                    date stamp\n",
       " 0               D  $61.00  9 Feb 2020 at 11:19:11AM PST\n",
       " 1               A  $60.00   8 Feb 2020 at 7:40:26AM PST\n",
       " 2               C  $54.99   7 Feb 2020 at 7:30:34PM PST\n",
       " 3               A  $50.00   7 Feb 2020 at 7:30:04PM PST\n",
       " 4               C  $45.00   7 Feb 2020 at 7:23:20PM PST\n",
       " 5               A  $30.00   7 Feb 2020 at 7:08:18PM PST\n",
       " 6               B  $21.00   7 Feb 2020 at 3:42:29PM PST\n",
       " 7               A  $16.00   6 Feb 2020 at 8:30:50PM PST\n",
       " 8  Starting Price  $16.00   6 Feb 2020 at 7:48:04PM PST]"
      ]
     },
     "execution_count": 74,
     "metadata": {},
     "output_type": "execute_result"
    }
   ],
   "source": [
    "df"
   ]
  },
  {
   "cell_type": "markdown",
   "metadata": {},
   "source": [
    "Export to csv:"
   ]
  },
  {
   "cell_type": "code",
   "execution_count": 75,
   "metadata": {},
   "outputs": [],
   "source": [
    "pdf_filename = '/Users/liamcollins/Downloads/assignment-1-Spring-20.pdf'"
   ]
  },
  {
   "cell_type": "code",
   "execution_count": 85,
   "metadata": {},
   "outputs": [],
   "source": [
    "df = read_pdf(pdf_filename, pages=1, output_format=\"dataframe\", stream=True, guess=False, area = (464.65,142.38,624.43,466.01))"
   ]
  },
  {
   "cell_type": "code",
   "execution_count": 86,
   "metadata": {},
   "outputs": [
    {
     "data": {
      "text/plain": [
       "[           Bidder     bid                    date stamp\n",
       " 0               D  $61.00  9 Feb 2020 at 11:19:11AM PST\n",
       " 1               A  $60.00   8 Feb 2020 at 7:40:26AM PST\n",
       " 2               C  $54.99   7 Feb 2020 at 7:30:34PM PST\n",
       " 3               A  $50.00   7 Feb 2020 at 7:30:04PM PST\n",
       " 4               C  $45.00   7 Feb 2020 at 7:23:20PM PST\n",
       " 5               A  $30.00   7 Feb 2020 at 7:08:18PM PST\n",
       " 6               B  $21.00   7 Feb 2020 at 3:42:29PM PST\n",
       " 7               A  $16.00   6 Feb 2020 at 8:30:50PM PST\n",
       " 8  Starting Price  $16.00   6 Feb 2020 at 7:48:04PM PST]"
      ]
     },
     "execution_count": 86,
     "metadata": {},
     "output_type": "execute_result"
    }
   ],
   "source": [
    "#Visualise the data:\n",
    "df"
   ]
  },
  {
   "cell_type": "code",
   "execution_count": 109,
   "metadata": {},
   "outputs": [
    {
     "name": "stdout",
     "output_type": "stream",
     "text": [
      "------  ---  ----------\n",
      "Bidder  bid  date stamp\n",
      "------  ---  ----------\n"
     ]
    }
   ],
   "source": [
    "print (tabulate(df))"
   ]
  },
  {
   "cell_type": "code",
   "execution_count": 112,
   "metadata": {},
   "outputs": [],
   "source": [
    "#Save to file name:\n",
    "df[0].to_csv('market_design_table.csv')"
   ]
  },
  {
   "cell_type": "code",
   "execution_count": 102,
   "metadata": {},
   "outputs": [
    {
     "name": "stdout",
     "output_type": "stream",
     "text": [
      "Index(['Bidder', 'bid', 'date stamp'], dtype='object')\n"
     ]
    }
   ],
   "source": [
    "print(df[0].columns)"
   ]
  }
 ],
 "metadata": {
  "kernelspec": {
   "display_name": "Python 3",
   "language": "python",
   "name": "python3"
  },
  "language_info": {
   "codemirror_mode": {
    "name": "ipython",
    "version": 3
   },
   "file_extension": ".py",
   "mimetype": "text/x-python",
   "name": "python",
   "nbconvert_exporter": "python",
   "pygments_lexer": "ipython3",
   "version": "3.7.3"
  }
 },
 "nbformat": 4,
 "nbformat_minor": 2
}
